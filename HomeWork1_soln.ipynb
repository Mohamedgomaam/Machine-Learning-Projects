{
  "cells": [
    {
      "cell_type": "markdown",
      "metadata": {
        "id": "JujdLzq5fOAG"
      },
      "source": [
        "# day06: Gradient Descent for Linear Regression\n",
        "\n",
        "# Objectives\n",
        "\n",
        "* Learn how to fit weight parameters of Linear Regression to a simple dataset via gradient descent\n",
        "* Understand impact of step size\n",
        "* Understand impact of initialization\n",
        "\n",
        "\n",
        "# Outline\n",
        "* [Part 1: Loss and Gradient for 1-dim. Linear Regression](#part1)\n",
        "* [Part 2: Gradient Descent Algorithm in a few lines of Python](#part2)\n",
        "* [Part 3: Debugging with Trace Plots](#part3)\n",
        "* [Part 4: Selecting the step size](#part4)\n",
        "* [Part 5: Selecting the initialization](#part5)\n",
        "* [Part 6: Using SciPy's built-in routines](#part6)\n",
        "\n",
        "# Takeaways\n",
        "\n",
        "\n",
        "* Gradient descent is a simple algorithm that can be implemented in a few lines of Python\n",
        "* * Practical issues include selecting step size and initialization\n",
        "* Step size matters a lot\n",
        "* * Need to select carefully for each problem\n",
        "\n",
        "* Initialization of the parameters can matter too!\n",
        "\n",
        "* scipy offers some useful tools for gradient-based optimization\n",
        "* * scipy's toolbox cannot do scalable \"stochastic\" methods (requires a modest size dataset, not too big)\n",
        "* * \"L-BFGS-B\" method is highly recommended if you have your loss and gradient functions available\n"
      ]
    },
    {
      "cell_type": "code",
      "execution_count": null,
      "metadata": {
        "id": "9Dh-pWqjfOAP"
      },
      "outputs": [],
      "source": [
        "import numpy as np"
      ]
    },
    {
      "cell_type": "code",
      "execution_count": null,
      "metadata": {
        "id": "NZPv3eMTfOAU"
      },
      "outputs": [],
      "source": [
        "# import plotting libraries\n",
        "import matplotlib\n",
        "import matplotlib.pyplot as plt\n",
        "\n",
        "%matplotlib inline\n",
        "plt.style.use('seaborn') # pretty matplotlib plots\n",
        "\n",
        "import seaborn as sns\n",
        "sns.set('notebook', font_scale=1.25, style='whitegrid')"
      ]
    },
    {
      "cell_type": "markdown",
      "metadata": {
        "id": "hIxSUIiWfOAc"
      },
      "source": [
        "# Create simple dataset:   y = 1.234 * x + noise\n",
        "\n",
        "We will *intentionally* create a toy dataset where we know that a good solution has slope near 1.234.\n",
        "\n",
        "Naturally, the best slope for the finite dataset of N=100 examples we create won't be exactly 1.234 (because of the noise added plus the fact that our dataset size is limited)."
      ]
    },
    {
      "cell_type": "code",
      "execution_count": null,
      "metadata": {
        "id": "BHECPQkrfOAj"
      },
      "outputs": [],
      "source": [
        "def create_dataset(N=100, slope=1.234, noise_stddev=0.1, random_state=0):\n",
        "    random_state = np.random.RandomState(int(random_state))\n",
        "\n",
        "    # input features\n",
        "    x_N = np.linspace(-2, 2, N)\n",
        "    \n",
        "    # output features\n",
        "    y_N = slope * x_N + random_state.randn(N) * noise_stddev\n",
        "    \n",
        "    return x_N, y_N"
      ]
    },
    {
      "cell_type": "code",
      "execution_count": null,
      "metadata": {
        "id": "O_5Yqcg_fOAl"
      },
      "outputs": [],
      "source": [
        "x_N, y_N = create_dataset(N=50, noise_stddev=0.3)"
      ]
    },
    {
      "cell_type": "code",
      "execution_count": null,
      "metadata": {
        "id": "ungm5_r-fOAn",
        "colab": {
          "base_uri": "https://localhost:8080/",
          "height": 349
        },
        "outputId": "b048d77e-0627-4ee3-b2d0-195bed9fc3d7"
      },
      "outputs": [
        {
          "output_type": "display_data",
          "data": {
            "text/plain": [
              "<Figure size 360x360 with 1 Axes>"
            ],
            "image/png": "[encoded data removed]"
          },
          "metadata": {}
        }
      ],
      "source": [
        "fig, ax = plt.subplots(nrows=1, ncols=1, figsize=(5,5))\n",
        "plt.plot(x_N, y_N, 'k.');\n",
        "plt.xlabel('x');\n",
        "plt.ylabel('y');"
      ]
    },
    {
      "cell_type": "markdown",
      "metadata": {
        "id": "3j37UHDXfOAp"
      },
      "source": [
        "# Part 1: Gradient Descent for 1-dim. Linear Regression"
      ]
    },
    {
      "cell_type": "markdown",
      "metadata": {
        "id": "G3Y48AhafOAq"
      },
      "source": [
        "## Define model\n",
        "\n",
        "Consider the *simplest* linear regression model. A single weight parameter $w \\in \\mathbb{R}$ representing the slope of the prediction line. No bias/intercept.\n",
        "\n",
        "To make predictions, we just compute the weight multiplied by the input feature\n",
        "$$\n",
        "\\hat{y}(x) = w \\cdot x\n",
        "$$"
      ]
    },
    {
      "cell_type": "markdown",
      "metadata": {
        "id": "NiBGW2vmfOAv"
      },
      "source": [
        "## Define loss function"
      ]
    },
    {
      "cell_type": "markdown",
      "metadata": {
        "id": "Gg7ZFvBsfOAy"
      },
      "source": [
        "We want to minimize the total *squared error* across all N observed data examples (input features $x_n$, output responses $y_n$)"
      ]
    },
    {
      "cell_type": "markdown",
      "metadata": {
        "id": "mbUXF_0zfOA1"
      },
      "source": [
        "\\begin{align}\n",
        "    \\min_{w \\in \\mathbb{R}} ~~ &\\ell(w)\n",
        "    \\\\\n",
        "    \\text{calc_loss}(w) = \\ell(w) &= \\sum_{n=1}^N (y_n - w x_n)^2\n",
        "\\end{align}"
      ]
    },
    {
      "cell_type": "markdown",
      "metadata": {
        "id": "c-95ub6afOA4"
      },
      "source": [
        "### Exercise 1A: Complete the code below\n",
        "\n",
        "You should make it match the math expression above."
      ]
    },
    {
      "cell_type": "code",
      "execution_count": null,
      "metadata": {
        "id": "s1pb8_NxfOA6"
      },
      "outputs": [],
      "source": [
        "def calc_loss(w):\n",
        "    ''' Compute loss for slope-only least-squares linear regression\n",
        "    \n",
        "    Args\n",
        "    ----\n",
        "    w : float\n",
        "        Value of slope parameter\n",
        "\n",
        "    Returns\n",
        "    -------\n",
        "    loss : float\n",
        "        Sum of squared error loss at provided w value\n",
        "    '''\n",
        "    yhat_N = x_N * w\n",
        "    sum_squared_error = np.sum(np.square(y_N-yhat_N))  # todo compute the sum of squared error between y and yhat\n",
        "    return sum_squared_error"
      ]
    },
    {
      "cell_type": "markdown",
      "metadata": {
        "id": "35wNNYiMfOA7"
      },
      "source": [
        "# Define the gradient function\n",
        "\n",
        "\\begin{align}\n",
        "\\text{calc_grad}(w) = \\ell'(w) &= \\frac{\\partial}{\\partial w} [ \\sum_{n=1}^N (y_n - w x_n)^2] \n",
        "\\\\\n",
        "&= \\sum_{n=1}^N 2 (y_n - w x_n) (-x_n)\n",
        "\\\\\n",
        "&= 2 \\sum_{n=1}^N (w x_n - y_n) (x_n)\n",
        "\\\\\n",
        "&= 2  w \\left( \\sum_{n=1}^N x_n^2 \\right) - 2 \\sum_{n=1}^N y_n x_n\n",
        "\\end{align}"
      ]
    },
    {
      "cell_type": "markdown",
      "metadata": {
        "id": "5kjHucHFfOBA"
      },
      "source": [
        "Below, we've implemented the gradient calculation in code for you"
      ]
    },
    {
      "cell_type": "code",
      "execution_count": null,
      "metadata": {
        "id": "RQZfABrqfOBV"
      },
      "outputs": [],
      "source": [
        "def calc_grad(w):\n",
        "    ''' Compute gradient for slope-only least-squares linear regression\n",
        "    \n",
        "    Args\n",
        "    ----\n",
        "    w : float\n",
        "        Value of slope parameter\n",
        "\n",
        "    Returns\n",
        "    -------\n",
        "    g : float\n",
        "        Value of derivative of loss function at provided w value\n",
        "    '''\n",
        "    g = 2.0 * w * np.sum(np.square(x_N)) - 2.0 * np.sum(x_N * y_N)\n",
        "    return g"
      ]
    },
    {
      "cell_type": "markdown",
      "metadata": {
        "id": "g0jysZPWfOBX"
      },
      "source": [
        "## Plot loss evaluated at each w from -3 to 8\n",
        "\n",
        "We should see a \"bowl\" shape with one *global* minima, because our optimization problem is \"convex\""
      ]
    },
    {
      "cell_type": "code",
      "execution_count": null,
      "metadata": {
        "id": "nLPLU_QnfOBY"
      },
      "outputs": [],
      "source": [
        "w_grid = np.linspace(-3, 8, 300) # create array of 300 values between -3 and 8"
      ]
    },
    {
      "cell_type": "code",
      "execution_count": null,
      "metadata": {
        "id": "qrXrBWBQfOBa",
        "colab": {
          "base_uri": "https://localhost:8080/",
          "height": 376
        },
        "outputId": "05e25940-ea6b-4c8a-cc43-e8bb15e813d0"
      },
      "outputs": [
        {
          "output_type": "display_data",
          "data": {
            "text/plain": [
              "<Figure size 576x396 with 1 Axes>"
            ],
            "image/png": "[encoded data removed]"
          },
          "metadata": {}
        }
      ],
      "source": [
        "loss_grid = np.asarray([calc_loss(w) for w in w_grid])\n",
        "plt.plot(w_grid, loss_grid, 'b.-');\n",
        "plt.xlabel('w');\n",
        "plt.ylabel('loss(w)');"
      ]
    },
    {
      "cell_type": "markdown",
      "metadata": {
        "id": "t-Qx5F73fOBa"
      },
      "source": [
        "### Discussion 1b: Visually, at what value of $w$ does the loss function have a minima? Is it near where you would expect (hint: look above for the \"true\" slope value used to generate the data)"
      ]
    },
    {
      "cell_type": "markdown",
      "metadata": {
        "id": "p6GW8YgyfOBb"
      },
      "source": [
        "### Exercise 1c: Write NumPy code to identify which entry in the w_grid array corresponds to the lowest entry in the loss_grid array\n",
        "\n",
        "Hint: use np.argmin"
      ]
    },
    {
      "cell_type": "code",
      "execution_count": null,
      "metadata": {
        "id": "-oWcP4KYfOBc",
        "colab": {
          "base_uri": "https://localhost:8080/"
        },
        "outputId": "befc1b5b-0d1f-4acf-ab0f-baa5103e9616"
      },
      "outputs": [
        {
          "output_type": "execute_result",
          "data": {
            "text/plain": [
              "112"
            ]
          },
          "metadata": {},
          "execution_count": 10
        }
      ],
      "source": [
        "# TODO write code here\n",
        "np.argmin(loss_grid)"
      ]
    },
    {
      "cell_type": "code",
      "source": [
        "loss_grid[112]"
      ],
      "metadata": {
        "colab": {
          "base_uri": "https://localhost:8080/"
        },
        "id": "_heX10tDL1e6",
        "outputId": "7cab13b5-1b0d-4767-e1ec-a389bbaceacf"
      },
      "execution_count": null,
      "outputs": [
        {
          "output_type": "execute_result",
          "data": {
            "text/plain": [
              "5.0159028192802575"
            ]
          },
          "metadata": {},
          "execution_count": 11
        }
      ]
    },
    {
      "cell_type": "code",
      "source": [
        "loss_grid[np.argmin(loss_grid)]"
      ],
      "metadata": {
        "colab": {
          "base_uri": "https://localhost:8080/"
        },
        "id": "09lDYb03MAGX",
        "outputId": "6b30ccbe-7de2-4e6d-b395-fe6aa7fddf8c"
      },
      "execution_count": null,
      "outputs": [
        {
          "output_type": "execute_result",
          "data": {
            "text/plain": [
              "5.0159028192802575"
            ]
          },
          "metadata": {},
          "execution_count": 13
        }
      ]
    },
    {
      "cell_type": "markdown",
      "metadata": {
        "id": "mGyHM5W0fOBi"
      },
      "source": [
        "## Sanity check: plot gradient evaluated at each w from -3 to 8"
      ]
    },
    {
      "cell_type": "code",
      "execution_count": null,
      "metadata": {
        "id": "_cojGtMbfOBj",
        "colab": {
          "base_uri": "https://localhost:8080/",
          "height": 376
        },
        "outputId": "d0320e6e-4db0-47c2-bed2-8e8e3cd3894c"
      },
      "outputs": [
        {
          "output_type": "display_data",
          "data": {
            "text/plain": [
              "<Figure size 576x396 with 1 Axes>"
            ],
            "image/png": "[encoded data removed]"
          },
          "metadata": {}
        }
      ],
      "source": [
        "grad_grid = np.asarray([calc_grad(w) for w in w_grid])\n",
        "plt.plot(w_grid, grad_grid, 'b.-');\n",
        "plt.xlabel('w');\n",
        "plt.ylabel('grad(w)');"
      ]
    },
    {
      "cell_type": "markdown",
      "metadata": {
        "id": "iVy2kanqfOBk"
      },
      "source": [
        "### Discussion 1d: Visually, at what value of $w$ does the gradient function cross zero? Is it the same place as the location of the minimum in the loss above?"
      ]
    },
    {
      "cell_type": "markdown",
      "metadata": {
        "id": "0P_lSWEIfOBl"
      },
      "source": [
        "TODO interpret the graph above and write your answer here, then discuss with your group"
      ]
    },
    {
      "cell_type": "markdown",
      "metadata": {
        "id": "twlMCld1fOBl"
      },
      "source": [
        "### Exercise 1d: Numerically, at which value of w does grad_grid cross zero?"
      ]
    },
    {
      "cell_type": "markdown",
      "metadata": {
        "id": "qGeB9ig2fOBm"
      },
      "source": [
        "We might try to estimate numerically where the gradient crosses zero.\n",
        "\n",
        "We could do this in a few steps:\n",
        "\n",
        "1) Compute the distance from each gradient in `grad_grid` to 0.0 (we could use just absolute distance)\n",
        "\n",
        "2) Find the index of `grad_grid` with smallest distance (using `np.argmin`)\n",
        "\n",
        "3) Plug that index into `w_grid` to get the $w$ value corresponding to that zero-crossing"
      ]
    },
    {
      "cell_type": "code",
      "execution_count": null,
      "metadata": {
        "id": "UOorJjnpfOBn",
        "colab": {
          "base_uri": "https://localhost:8080/"
        },
        "outputId": "02060641-f62c-4e4d-9fd3-cb8cf8359fd5"
      },
      "outputs": [
        {
          "output_type": "stream",
          "name": "stdout",
          "text": [
            "Zero crossing occurs at w = 1.1204\n"
          ]
        }
      ],
      "source": [
        "dist_from_zero_G = np.abs(grad_grid - 0.0)\n",
        "\n",
        "zero_cross_index = np.argmin(dist_from_zero_G) # TODO fix me for step 2 above\n",
        "\n",
        "print(\"Zero crossing occurs at w = %.4f\" % w_grid[zero_cross_index]) # TODO fix me for step 3 above"
      ]
    },
    {
      "cell_type": "markdown",
      "metadata": {
        "id": "c4iGUcaDfOBn"
      },
      "source": [
        "## Part 2: Gradient Descent (GD) as an algorithm in Python\n",
        "\n",
        "\n",
        "### Define minimize_via_grad_descent algorithm\n",
        "\n",
        "Can you understand what each step of this algorithm does?"
      ]
    },
    {
      "cell_type": "code",
      "execution_count": null,
      "metadata": {
        "id": "cw78EANjfOBo"
      },
      "outputs": [],
      "source": [
        "def minimize_via_grad_descent(calc_loss, calc_grad, init_w=0.0, step_size=0.001, max_iters=100):\n",
        "    ''' Perform minimization of provided loss function via gradient descent\n",
        "    \n",
        "    Args\n",
        "    ----\n",
        "    calc_loss : function\n",
        "    calc_grad : function\n",
        "    init_w : float\n",
        "    step_size : float\n",
        "    max_iters : positive int\n",
        "    \n",
        "    Return\n",
        "    ----\n",
        "    wopt: float\n",
        "        array of optimized weights that approximately gives the least error\n",
        "    info_dict : dict\n",
        "        Contains information about the optimization procedure useful for debugging\n",
        "        Entries include:\n",
        "        * trace_loss_list : list of loss values\n",
        "        * trace_grad_list : list of gradient values\n",
        "    '''\n",
        "    w = init_w \n",
        "    grad = calc_grad(w)\n",
        "\n",
        "    # Create some lists to track progress over time (for debugging)\n",
        "    trace_loss_list = []\n",
        "    trace_w_list = []\n",
        "    trace_grad_list = []\n",
        "\n",
        "    for iter_id in range(max_iters):\n",
        "        if iter_id > 0:\n",
        "            w = w - step_size * grad\n",
        "        \n",
        "        loss = calc_loss(w)\n",
        "        grad = calc_grad(w)    \n",
        "\n",
        "        print(\"  iter %5d/%d | w  % 13.5f | loss % 13.4f | grad % 13.4f\" % (\n",
        "            iter_id, max_iters, w, loss, grad))\n",
        "    \n",
        "        trace_loss_list.append(loss)\n",
        "        trace_w_list.append(w)\n",
        "        trace_grad_list.append(grad)\n",
        "    \n",
        "    wopt = w\n",
        "    info_dict = dict(\n",
        "        trace_loss_list=trace_loss_list,\n",
        "        trace_w_list=trace_w_list, \n",
        "        trace_grad_list=trace_grad_list)\n",
        "    \n",
        "    return wopt, info_dict"
      ]
    },
    {
      "cell_type": "markdown",
      "metadata": {
        "id": "n4QmtLMkfOBp"
      },
      "source": [
        "### Discussion 2a: Which line of the above function does the *parameter update* happen?\n",
        "\n",
        "Remember, in math, the parameter update of gradient descent is this:\n",
        "$$\n",
        "w \\gets w - \\alpha \\nabla_w \\ell(w)\n",
        "$$\n",
        "\n",
        "where $\\alpha > 0$ is the step size.\n",
        "\n",
        "In words, this math says *move* the parameter $w$ from its current value a *small step* in the \"downhill\" direction (indicated by gradient)."
      ]
    },
    {
      "cell_type": "markdown",
      "metadata": {
        "id": "EIDy3GPEfOBq"
      },
      "source": [
        "TODO write down here which line above *you* think it is, then discuss with your group"
      ]
    },
    {
      "cell_type": "code",
      "execution_count": null,
      "metadata": {
        "id": "SHLHMCX6fOBt"
      },
      "outputs": [],
      "source": []
    },
    {
      "cell_type": "markdown",
      "metadata": {
        "id": "hFu1Mw5cfOCB"
      },
      "source": [
        "### Try it! Run GD with step_size = 0.001\n",
        "\n",
        "Running the cell below will have the following effects:\n",
        "\n",
        "1) one line will be printed for every iteration, indicating the current w value and its associated loss\n",
        "\n",
        "2) the \"optimal\" value of w will be stored in the variable named `wopt` returned by this function\n",
        "\n",
        "3) a dictionary of information useful for debugging will be stored in the `info_dict` returned by this function"
      ]
    },
    {
      "cell_type": "code",
      "execution_count": null,
      "metadata": {
        "id": "ZdAntYy9fOCD",
        "colab": {
          "base_uri": "https://localhost:8080/"
        },
        "outputId": "7a7bdf65-e34b-44df-dd2f-753de9e85a01"
      },
      "outputs": [
        {
          "output_type": "stream",
          "name": "stdout",
          "text": [
            "  iter     0/100 | w        0.00000 | loss       93.3197 | grad     -156.5566\n",
            "  iter     1/100 | w        0.15656 | loss       70.5104 | grad     -134.8304\n",
            "  iter     2/100 | w        0.29139 | loss       53.5926 | grad     -116.1192\n",
            "  iter     3/100 | w        0.40751 | loss       41.0446 | grad     -100.0047\n",
            "  iter     4/100 | w        0.50751 | loss       31.7376 | grad      -86.1265\n",
            "  iter     5/100 | w        0.59364 | loss       24.8345 | grad      -74.1743\n",
            "  iter     6/100 | w        0.66781 | loss       19.7144 | grad      -63.8807\n",
            "  iter     7/100 | w        0.73169 | loss       15.9168 | grad      -55.0156\n",
            "  iter     8/100 | w        0.78671 | loss       13.1001 | grad      -47.3808\n",
            "  iter     9/100 | w        0.83409 | loss       11.0110 | grad      -40.8055\n",
            "  iter    10/100 | w        0.87489 | loss        9.4614 | grad      -35.1427\n",
            "  iter    11/100 | w        0.91004 | loss        8.3121 | grad      -30.2657\n",
            "  iter    12/100 | w        0.94030 | loss        7.4597 | grad      -26.0656\n",
            "  iter    13/100 | w        0.96637 | loss        6.8274 | grad      -22.4483\n",
            "  iter    14/100 | w        0.98882 | loss        6.3584 | grad      -19.3331\n",
            "  iter    15/100 | w        1.00815 | loss        6.0106 | grad      -16.6501\n",
            "  iter    16/100 | w        1.02480 | loss        5.7526 | grad      -14.3395\n",
            "  iter    17/100 | w        1.03914 | loss        5.5612 | grad      -12.3495\n",
            "  iter    18/100 | w        1.05149 | loss        5.4193 | grad      -10.6357\n",
            "  iter    19/100 | w        1.06212 | loss        5.3140 | grad       -9.1597\n",
            "  iter    20/100 | w        1.07128 | loss        5.2360 | grad       -7.8886\n",
            "  iter    21/100 | w        1.07917 | loss        5.1781 | grad       -6.7938\n",
            "  iter    22/100 | w        1.08597 | loss        5.1351 | grad       -5.8510\n",
            "  iter    23/100 | w        1.09182 | loss        5.1032 | grad       -5.0390\n",
            "  iter    24/100 | w        1.09686 | loss        5.0796 | grad       -4.3397\n",
            "  iter    25/100 | w        1.10120 | loss        5.0621 | grad       -3.7375\n",
            "  iter    26/100 | w        1.10493 | loss        5.0491 | grad       -3.2188\n",
            "  iter    27/100 | w        1.10815 | loss        5.0394 | grad       -2.7721\n",
            "  iter    28/100 | w        1.11092 | loss        5.0323 | grad       -2.3874\n",
            "  iter    29/100 | w        1.11331 | loss        5.0270 | grad       -2.0561\n",
            "  iter    30/100 | w        1.11537 | loss        5.0231 | grad       -1.7708\n",
            "  iter    31/100 | w        1.11714 | loss        5.0201 | grad       -1.5250\n",
            "  iter    32/100 | w        1.11866 | loss        5.0180 | grad       -1.3134\n",
            "  iter    33/100 | w        1.11998 | loss        5.0164 | grad       -1.1311\n",
            "  iter    34/100 | w        1.12111 | loss        5.0152 | grad       -0.9742\n",
            "  iter    35/100 | w        1.12208 | loss        5.0143 | grad       -0.8390\n",
            "  iter    36/100 | w        1.12292 | loss        5.0136 | grad       -0.7225\n",
            "  iter    37/100 | w        1.12364 | loss        5.0132 | grad       -0.6223\n",
            "  iter    38/100 | w        1.12427 | loss        5.0128 | grad       -0.5359\n",
            "  iter    39/100 | w        1.12480 | loss        5.0125 | grad       -0.4615\n",
            "  iter    40/100 | w        1.12526 | loss        5.0123 | grad       -0.3975\n",
            "  iter    41/100 | w        1.12566 | loss        5.0122 | grad       -0.3423\n",
            "  iter    42/100 | w        1.12600 | loss        5.0121 | grad       -0.2948\n",
            "  iter    43/100 | w        1.12630 | loss        5.0120 | grad       -0.2539\n",
            "  iter    44/100 | w        1.12655 | loss        5.0119 | grad       -0.2187\n",
            "  iter    45/100 | w        1.12677 | loss        5.0119 | grad       -0.1883\n",
            "  iter    46/100 | w        1.12696 | loss        5.0119 | grad       -0.1622\n",
            "  iter    47/100 | w        1.12712 | loss        5.0118 | grad       -0.1397\n",
            "  iter    48/100 | w        1.12726 | loss        5.0118 | grad       -0.1203\n",
            "  iter    49/100 | w        1.12738 | loss        5.0118 | grad       -0.1036\n",
            "  iter    50/100 | w        1.12749 | loss        5.0118 | grad       -0.0892\n",
            "  iter    51/100 | w        1.12757 | loss        5.0118 | grad       -0.0768\n",
            "  iter    52/100 | w        1.12765 | loss        5.0118 | grad       -0.0662\n",
            "  iter    53/100 | w        1.12772 | loss        5.0118 | grad       -0.0570\n",
            "  iter    54/100 | w        1.12777 | loss        5.0118 | grad       -0.0491\n",
            "  iter    55/100 | w        1.12782 | loss        5.0118 | grad       -0.0423\n",
            "  iter    56/100 | w        1.12787 | loss        5.0118 | grad       -0.0364\n",
            "  iter    57/100 | w        1.12790 | loss        5.0118 | grad       -0.0314\n",
            "  iter    58/100 | w        1.12793 | loss        5.0118 | grad       -0.0270\n",
            "  iter    59/100 | w        1.12796 | loss        5.0118 | grad       -0.0233\n",
            "  iter    60/100 | w        1.12798 | loss        5.0118 | grad       -0.0200\n",
            "  iter    61/100 | w        1.12800 | loss        5.0118 | grad       -0.0172\n",
            "  iter    62/100 | w        1.12802 | loss        5.0118 | grad       -0.0149\n",
            "  iter    63/100 | w        1.12804 | loss        5.0118 | grad       -0.0128\n",
            "  iter    64/100 | w        1.12805 | loss        5.0118 | grad       -0.0110\n",
            "  iter    65/100 | w        1.12806 | loss        5.0118 | grad       -0.0095\n",
            "  iter    66/100 | w        1.12807 | loss        5.0118 | grad       -0.0082\n",
            "  iter    67/100 | w        1.12808 | loss        5.0118 | grad       -0.0070\n",
            "  iter    68/100 | w        1.12808 | loss        5.0118 | grad       -0.0061\n",
            "  iter    69/100 | w        1.12809 | loss        5.0118 | grad       -0.0052\n",
            "  iter    70/100 | w        1.12810 | loss        5.0118 | grad       -0.0045\n",
            "  iter    71/100 | w        1.12810 | loss        5.0118 | grad       -0.0039\n",
            "  iter    72/100 | w        1.12810 | loss        5.0118 | grad       -0.0033\n",
            "  iter    73/100 | w        1.12811 | loss        5.0118 | grad       -0.0029\n",
            "  iter    74/100 | w        1.12811 | loss        5.0118 | grad       -0.0025\n",
            "  iter    75/100 | w        1.12811 | loss        5.0118 | grad       -0.0021\n",
            "  iter    76/100 | w        1.12812 | loss        5.0118 | grad       -0.0018\n",
            "  iter    77/100 | w        1.12812 | loss        5.0118 | grad       -0.0016\n",
            "  iter    78/100 | w        1.12812 | loss        5.0118 | grad       -0.0014\n",
            "  iter    79/100 | w        1.12812 | loss        5.0118 | grad       -0.0012\n",
            "  iter    80/100 | w        1.12812 | loss        5.0118 | grad       -0.0010\n",
            "  iter    81/100 | w        1.12812 | loss        5.0118 | grad       -0.0009\n",
            "  iter    82/100 | w        1.12812 | loss        5.0118 | grad       -0.0007\n",
            "  iter    83/100 | w        1.12812 | loss        5.0118 | grad       -0.0006\n",
            "  iter    84/100 | w        1.12812 | loss        5.0118 | grad       -0.0006\n",
            "  iter    85/100 | w        1.12812 | loss        5.0118 | grad       -0.0005\n",
            "  iter    86/100 | w        1.12813 | loss        5.0118 | grad       -0.0004\n",
            "  iter    87/100 | w        1.12813 | loss        5.0118 | grad       -0.0004\n",
            "  iter    88/100 | w        1.12813 | loss        5.0118 | grad       -0.0003\n",
            "  iter    89/100 | w        1.12813 | loss        5.0118 | grad       -0.0003\n",
            "  iter    90/100 | w        1.12813 | loss        5.0118 | grad       -0.0002\n",
            "  iter    91/100 | w        1.12813 | loss        5.0118 | grad       -0.0002\n",
            "  iter    92/100 | w        1.12813 | loss        5.0118 | grad       -0.0002\n",
            "  iter    93/100 | w        1.12813 | loss        5.0118 | grad       -0.0001\n",
            "  iter    94/100 | w        1.12813 | loss        5.0118 | grad       -0.0001\n",
            "  iter    95/100 | w        1.12813 | loss        5.0118 | grad       -0.0001\n",
            "  iter    96/100 | w        1.12813 | loss        5.0118 | grad       -0.0001\n",
            "  iter    97/100 | w        1.12813 | loss        5.0118 | grad       -0.0001\n",
            "  iter    98/100 | w        1.12813 | loss        5.0118 | grad       -0.0001\n",
            "  iter    99/100 | w        1.12813 | loss        5.0118 | grad       -0.0001\n"
          ]
        }
      ],
      "source": [
        "wopt, info_dict = minimize_via_grad_descent(calc_loss, calc_grad, step_size=0.001)"
      ]
    },
    {
      "cell_type": "markdown",
      "metadata": {
        "id": "tKjjsdaofOCE"
      },
      "source": [
        "### Discussion 2b: Does it appear from the *loss* values in trace above that the GD procedure converged?"
      ]
    },
    {
      "cell_type": "markdown",
      "metadata": {
        "id": "9KzYSm7zfOCF"
      },
      "source": [
        "### Discussion 2c: Does it appear from the *parameter* values in trace above that the GD procedure converged?"
      ]
    },
    {
      "cell_type": "markdown",
      "metadata": {
        "id": "H2O4MA9DfOCG"
      },
      "source": [
        "### Exercise 2d: What exactly is the gradient of the returned \"optimal\" value of w?\n",
        "\n",
        "Use your `calc_grad` function to check the result. What is the gradient of the returned `wopt`?\n",
        "\n",
        "Does this look totally converged? Can you find a $w$ value that would be even better?"
      ]
    },
    {
      "cell_type": "code",
      "execution_count": null,
      "metadata": {
        "id": "4cLTwJTSfOCG",
        "colab": {
          "base_uri": "https://localhost:8080/"
        },
        "outputId": "ca3c398e-ba4e-42ea-b868-d267d057ab85"
      },
      "outputs": [
        {
          "output_type": "execute_result",
          "data": {
            "text/plain": [
              "0.00023411071416035156"
            ]
          },
          "metadata": {},
          "execution_count": 19
        }
      ],
      "source": [
        "# TODO call calc_grad on the return value from above\n",
        "calc_grad(1.12813)"
      ]
    },
    {
      "cell_type": "markdown",
      "metadata": {
        "id": "88_XNloifOCI"
      },
      "source": [
        "## Part 3: Diagnostic plots for gradient descent"
      ]
    },
    {
      "cell_type": "markdown",
      "metadata": {
        "id": "1e8ZFSrMfOCI"
      },
      "source": [
        "Let's look at some trace functions.\n",
        "\n",
        "Whenever you run gradient descent, an *excellent* debugging strategy is the ability to plot the loss, the gradient magnitude, and the parameter of interest at every step of the algorithm."
      ]
    },
    {
      "cell_type": "code",
      "execution_count": null,
      "metadata": {
        "id": "DalhSIf5fOCJ",
        "colab": {
          "base_uri": "https://localhost:8080/",
          "height": 272
        },
        "outputId": "b4741781-c581-4f76-8e5e-f70f04516dd6"
      },
      "outputs": [
        {
          "output_type": "display_data",
          "data": {
            "text/plain": [
              "<Figure size 1296x259.2 with 3 Axes>"
            ],
            "image/png": "[encoded data removed]"
          },
          "metadata": {}
        }
      ],
      "source": [
        "fig, axes = plt.subplots(nrows=1, ncols=3, sharex=True, sharey=False, figsize=(18,3.6))\n",
        "\n",
        "axes[0].plot(info_dict['trace_loss_list']);\n",
        "axes[0].set_title('loss');\n",
        "axes[1].plot(info_dict['trace_grad_list']);\n",
        "axes[1].set_title('grad');\n",
        "axes[2].plot(info_dict['trace_w_list']);\n",
        "axes[2].set_title('w');\n",
        "\n",
        "plt.xlim([0, 100]);"
      ]
    },
    {
      "cell_type": "markdown",
      "metadata": {
        "id": "tJ8nA88QfOCK"
      },
      "source": [
        "### Discussion 3a: What value do we expect the *loss* to converge to? Should it always be zero?"
      ]
    },
    {
      "cell_type": "markdown",
      "metadata": {
        "id": "OJasiJitfOCM"
      },
      "source": [
        "### Discussion 3b: What value do we expect the *gradient* to converge to? Should it always be zero?"
      ]
    },
    {
      "cell_type": "markdown",
      "metadata": {
        "id": "2FrW3-MpfOCM"
      },
      "source": [
        "# Part 4: Larger step sizes\n",
        "\n",
        "## Try with larger step_size = 0.014"
      ]
    },
    {
      "cell_type": "code",
      "execution_count": null,
      "metadata": {
        "id": "JWKo3QhmfOCN",
        "colab": {
          "base_uri": "https://localhost:8080/"
        },
        "outputId": "746fd930-318e-4f1c-b25e-6c994ac0077a"
      },
      "outputs": [
        {
          "output_type": "stream",
          "name": "stdout",
          "text": [
            "  iter     0/100 | w        0.00000 | loss       93.3197 | grad     -156.5566\n",
            "  iter     1/100 | w        2.19179 | loss       83.5157 | grad      147.6105\n",
            "  iter     2/100 | w        0.12525 | loss       74.8002 | grad     -139.1756\n",
            "  iter     3/100 | w        2.07370 | loss       67.0522 | grad      131.2227\n",
            "  iter     4/100 | w        0.23659 | loss       60.1645 | grad     -123.7243\n",
            "  iter     5/100 | w        1.96873 | loss       54.0414 | grad      116.6543\n",
            "  iter     6/100 | w        0.33557 | loss       48.5981 | grad     -109.9884\n",
            "  iter     7/100 | w        1.87540 | loss       43.7591 | grad      103.7033\n",
            "  iter     8/100 | w        0.42356 | loss       39.4574 | grad      -97.7774\n",
            "  iter     9/100 | w        1.79244 | loss       35.6332 | grad       92.1901\n",
            "  iter    10/100 | w        0.50178 | loss       32.2336 | grad      -86.9221\n",
            "  iter    11/100 | w        1.71869 | loss       29.2114 | grad       81.9551\n",
            "  iter    12/100 | w        0.57132 | loss       26.5248 | grad      -77.2720\n",
            "  iter    13/100 | w        1.65312 | loss       24.1364 | grad       72.8564\n",
            "  iter    14/100 | w        0.63313 | loss       22.0132 | grad      -68.6932\n",
            "  iter    15/100 | w        1.59484 | loss       20.1257 | grad       64.7679\n",
            "  iter    16/100 | w        0.68809 | loss       18.4477 | grad      -61.0669\n",
            "  iter    17/100 | w        1.54302 | loss       16.9560 | grad       57.5773\n",
            "  iter    18/100 | w        0.73694 | loss       15.6300 | grad      -54.2872\n",
            "  iter    19/100 | w        1.49696 | loss       14.4511 | grad       51.1851\n",
            "  iter    20/100 | w        0.78037 | loss       13.4032 | grad      -48.2602\n",
            "  iter    21/100 | w        1.45601 | loss       12.4716 | grad       45.5025\n",
            "  iter    22/100 | w        0.81898 | loss       11.6434 | grad      -42.9023\n",
            "  iter    23/100 | w        1.41961 | loss       10.9071 | grad       40.4508\n",
            "  iter    24/100 | w        0.85330 | loss       10.2526 | grad      -38.1393\n",
            "  iter    25/100 | w        1.38725 | loss        9.6708 | grad       35.9599\n",
            "  iter    26/100 | w        0.88381 | loss        9.1535 | grad      -33.9051\n",
            "  iter    27/100 | w        1.35848 | loss        8.6937 | grad       31.9676\n",
            "  iter    28/100 | w        0.91094 | loss        8.2849 | grad      -30.1409\n",
            "  iter    29/100 | w        1.33291 | loss        7.9216 | grad       28.4186\n",
            "  iter    30/100 | w        0.93505 | loss        7.5985 | grad      -26.7947\n",
            "  iter    31/100 | w        1.31017 | loss        7.3113 | grad       25.2635\n",
            "  iter    32/100 | w        0.95648 | loss        7.0560 | grad      -23.8199\n",
            "  iter    33/100 | w        1.28996 | loss        6.8291 | grad       22.4588\n",
            "  iter    34/100 | w        0.97554 | loss        6.6273 | grad      -21.1754\n",
            "  iter    35/100 | w        1.27200 | loss        6.4480 | grad       19.9654\n",
            "  iter    36/100 | w        0.99248 | loss        6.2885 | grad      -18.8245\n",
            "  iter    37/100 | w        1.25602 | loss        6.1468 | grad       17.7488\n",
            "  iter    38/100 | w        1.00754 | loss        6.0208 | grad      -16.7346\n",
            "  iter    39/100 | w        1.24183 | loss        5.9087 | grad       15.7783\n",
            "  iter    40/100 | w        1.02093 | loss        5.8092 | grad      -14.8767\n",
            "  iter    41/100 | w        1.22920 | loss        5.7206 | grad       14.0266\n",
            "  iter    42/100 | w        1.03283 | loss        5.6419 | grad      -13.2251\n",
            "  iter    43/100 | w        1.21798 | loss        5.5720 | grad       12.4694\n",
            "  iter    44/100 | w        1.04341 | loss        5.5098 | grad      -11.7568\n",
            "  iter    45/100 | w        1.20801 | loss        5.4545 | grad       11.0850\n",
            "  iter    46/100 | w        1.05282 | loss        5.4053 | grad      -10.4516\n",
            "  iter    47/100 | w        1.19914 | loss        5.3616 | grad        9.8544\n",
            "  iter    48/100 | w        1.06118 | loss        5.3228 | grad       -9.2913\n",
            "  iter    49/100 | w        1.19125 | loss        5.2883 | grad        8.7603\n",
            "  iter    50/100 | w        1.06861 | loss        5.2576 | grad       -8.2597\n",
            "  iter    51/100 | w        1.18425 | loss        5.2303 | grad        7.7878\n",
            "  iter    52/100 | w        1.07522 | loss        5.2060 | grad       -7.3427\n",
            "  iter    53/100 | w        1.17802 | loss        5.1844 | grad        6.9232\n",
            "  iter    54/100 | w        1.08109 | loss        5.1653 | grad       -6.5275\n",
            "  iter    55/100 | w        1.17248 | loss        5.1482 | grad        6.1545\n",
            "  iter    56/100 | w        1.08631 | loss        5.1331 | grad       -5.8029\n",
            "  iter    57/100 | w        1.16755 | loss        5.1196 | grad        5.4713\n",
            "  iter    58/100 | w        1.09096 | loss        5.1076 | grad       -5.1586\n",
            "  iter    59/100 | w        1.16318 | loss        5.0970 | grad        4.8638\n",
            "  iter    60/100 | w        1.09508 | loss        5.0875 | grad       -4.5859\n",
            "  iter    61/100 | w        1.15929 | loss        5.0791 | grad        4.3239\n",
            "  iter    62/100 | w        1.09875 | loss        5.0716 | grad       -4.0768\n",
            "  iter    63/100 | w        1.15583 | loss        5.0650 | grad        3.8438\n",
            "  iter    64/100 | w        1.10201 | loss        5.0591 | grad       -3.6242\n",
            "  iter    65/100 | w        1.15275 | loss        5.0538 | grad        3.4171\n",
            "  iter    66/100 | w        1.10491 | loss        5.0492 | grad       -3.2218\n",
            "  iter    67/100 | w        1.15002 | loss        5.0450 | grad        3.0377\n",
            "  iter    68/100 | w        1.10749 | loss        5.0413 | grad       -2.8641\n",
            "  iter    69/100 | w        1.14759 | loss        5.0380 | grad        2.7005\n",
            "  iter    70/100 | w        1.10978 | loss        5.0351 | grad       -2.5462\n",
            "  iter    71/100 | w        1.14543 | loss        5.0325 | grad        2.4007\n",
            "  iter    72/100 | w        1.11182 | loss        5.0302 | grad       -2.2635\n",
            "  iter    73/100 | w        1.14351 | loss        5.0282 | grad        2.1341\n",
            "  iter    74/100 | w        1.11363 | loss        5.0263 | grad       -2.0122\n",
            "  iter    75/100 | w        1.14180 | loss        5.0247 | grad        1.8972\n",
            "  iter    76/100 | w        1.11524 | loss        5.0233 | grad       -1.7888\n",
            "  iter    77/100 | w        1.14028 | loss        5.0220 | grad        1.6866\n",
            "  iter    78/100 | w        1.11667 | loss        5.0209 | grad       -1.5902\n",
            "  iter    79/100 | w        1.13893 | loss        5.0199 | grad        1.4993\n",
            "  iter    80/100 | w        1.11794 | loss        5.0190 | grad       -1.4137\n",
            "  iter    81/100 | w        1.13773 | loss        5.0182 | grad        1.3329\n",
            "  iter    82/100 | w        1.11907 | loss        5.0175 | grad       -1.2567\n",
            "  iter    83/100 | w        1.13667 | loss        5.0168 | grad        1.1849\n",
            "  iter    84/100 | w        1.12008 | loss        5.0163 | grad       -1.1172\n",
            "  iter    85/100 | w        1.13572 | loss        5.0158 | grad        1.0533\n",
            "  iter    86/100 | w        1.12097 | loss        5.0153 | grad       -0.9932\n",
            "  iter    87/100 | w        1.13488 | loss        5.0149 | grad        0.9364\n",
            "  iter    88/100 | w        1.12177 | loss        5.0146 | grad       -0.8829\n",
            "  iter    89/100 | w        1.13413 | loss        5.0143 | grad        0.8324\n",
            "  iter    90/100 | w        1.12247 | loss        5.0140 | grad       -0.7849\n",
            "  iter    91/100 | w        1.13346 | loss        5.0137 | grad        0.7400\n",
            "  iter    92/100 | w        1.12310 | loss        5.0135 | grad       -0.6977\n",
            "  iter    93/100 | w        1.13287 | loss        5.0133 | grad        0.6579\n",
            "  iter    94/100 | w        1.12366 | loss        5.0131 | grad       -0.6203\n",
            "  iter    95/100 | w        1.13234 | loss        5.0130 | grad        0.5848\n",
            "  iter    96/100 | w        1.12415 | loss        5.0129 | grad       -0.5514\n",
            "  iter    97/100 | w        1.13187 | loss        5.0127 | grad        0.5199\n",
            "  iter    98/100 | w        1.12460 | loss        5.0126 | grad       -0.4902\n",
            "  iter    99/100 | w        1.13146 | loss        5.0125 | grad        0.4622\n"
          ]
        }
      ],
      "source": [
        "wopt, info_dict = minimize_via_grad_descent(calc_loss, calc_grad, step_size=0.014);"
      ]
    },
    {
      "cell_type": "code",
      "execution_count": null,
      "metadata": {
        "id": "jSOJQGY3fOCU",
        "colab": {
          "base_uri": "https://localhost:8080/",
          "height": 239
        },
        "outputId": "89e1198b-f3d4-46db-bb3f-a85d9ac625e7"
      },
      "outputs": [
        {
          "output_type": "display_data",
          "data": {
            "text/plain": [
              "<Figure size 864x216 with 3 Axes>"
            ],
            "image/png": "[encoded data removed]"
          },
          "metadata": {}
        }
      ],
      "source": [
        "fig, axes = plt.subplots(nrows=1, ncols=3, sharex=True, sharey=False, figsize=(12,3))\n",
        "\n",
        "axes[0].plot(info_dict['trace_loss_list'], '.-');\n",
        "axes[0].set_title('loss');\n",
        "axes[1].plot(info_dict['trace_grad_list'], '.-');\n",
        "axes[1].set_title('grad');\n",
        "axes[2].plot(info_dict['trace_w_list'], '.-');\n",
        "axes[2].set_title('w');"
      ]
    },
    {
      "cell_type": "markdown",
      "metadata": {
        "id": "pvNMJesrfOCV"
      },
      "source": [
        "### Discussion 4a: What happens here? How is this step size different than in Part 3 above?"
      ]
    },
    {
      "cell_type": "markdown",
      "metadata": {
        "id": "TfJkPygpfOCX"
      },
      "source": [
        "TODO discuss with your group"
      ]
    },
    {
      "cell_type": "markdown",
      "metadata": {
        "id": "8onZn639fOCa"
      },
      "source": [
        "## Try with even larger step size 0.1"
      ]
    },
    {
      "cell_type": "code",
      "execution_count": null,
      "metadata": {
        "id": "5ciInE5GfOCb",
        "colab": {
          "base_uri": "https://localhost:8080/"
        },
        "outputId": "35b6c6eb-4d34-4383-ebdc-f8552796b99d"
      },
      "outputs": [
        {
          "output_type": "stream",
          "name": "stdout",
          "text": [
            "  iter     0/25 | w        0.00000 | loss       93.3197 | grad     -156.5566\n",
            "  iter     1/25 | w       15.65566 | loss    14649.2368 | grad     2016.0654\n",
            "  iter     2/25 | w     -185.95088 | loss  2428476.1808 | grad   -25961.9847\n",
            "  iter     3/25 | w     2410.24759 | loss  402716585.2503 | grad   334326.7829\n",
            "  iter     4/25 | w   -31022.43070 | loss  66783022205.9171 | grad -4305310.2046\n",
            "  iter     5/25 | w   399508.58976 | loss  11074716744084.4141 | grad  55441851.8184\n",
            "  iter     6/25 | w  -5144676.59208 | loss  1836534899433323.2500 | grad -713955275.4570\n",
            "  iter     7/25 | w   66250850.95363 | loss  304555007119229056.0000 | grad  9193995485.9874\n",
            "  iter     8/25 | w  -853148697.64512 | loss  50504758929445773312.0000 | grad -118396145952.2056\n",
            "  iter     9/25 | w   10986465897.57544 | loss  8375270853855496110080.0000 | grad  1524652410119.2183\n",
            "  iter    10/25 | w  -141478775114.34641 | loss  1388882223424388487708672.0000 | grad -19633789199698.5000\n",
            "  iter    11/25 | w   1821900144855.50366 | loss  230320172828353878072229888.0000 | grad  252835122143056.1250\n",
            "  iter    12/25 | w  -23461612069450.10938 | loss  38194298347984235566746042368.0000 | grad -3255897185148334.0000\n",
            "  iter    13/25 | w   302128106445383.31250 | loss  6333810922337253002324901625856.0000 | grad  41927982118950984.0000\n",
            "  iter    14/25 | w  -3890670105449715.00000 | loss  1050344227675435594616612241539072.0000 | grad -539929728919552256.0000\n",
            "  iter    15/25 | w   50102302786505520.00000 | loss  174179970027271567056475537700552704.0000 | grad  6952972631596682240.0000\n",
            "  iter    16/25 | w  -645194960373162752.00000 | loss  28884494396513295581582150224859627520.0000 | grad -89537259806887870464.0000\n",
            "  iter    17/25 | w   8308531020315624448.00000 | loss  4789953841486933888993409867170069872640.0000 | grad  1153020631390739496960.0000\n",
            "  iter    18/25 | w  -106993532118758326272.00000 | loss  794324369629436915247881923050492605235200.0000 | grad -14848082008317477519360.0000\n",
            "  iter    19/25 | w   1377814668712989425664.00000 | loss  131723858948782180577106647540510996691943424.0000 | grad  191206933617312775798784.0000\n",
            "  iter    20/25 | w  -17742878693018289831936.00000 | loss  21843941442276573541864616173554104972001411072.0000 | grad -2462277043112741494063104.0000\n",
            "  iter    21/25 | w   228484825618255890612224.00000 | loss  3622409649561965380207861922238472078510690140160.0000 | grad  31708098249064074287513600.0000\n",
            "  iter    22/25 | w  -2942324999288151773020160.00000 | loss  600708974793519752090966724917105170766253120290816.0000 | grad -408322652962437261462339584.0000\n",
            "  iter    23/25 | w   37889940296955572118355968.00000 | loss  99616362395986024613809581522281286396676988509093888.0000 | grad  5258195796312200821216378880.0000\n",
            "  iter    24/25 | w  -487929639334264484233478144.00000 | loss  16519512897937594771338113222367982867942815032542232576.0000 | grad -67712684642306077575404847104.0000\n"
          ]
        }
      ],
      "source": [
        "wopt, info_dict = minimize_via_grad_descent(calc_loss, calc_grad, step_size=0.1, max_iters=25);"
      ]
    },
    {
      "cell_type": "markdown",
      "metadata": {
        "id": "XE5eJOCyfOCb"
      },
      "source": [
        "### Discussion 3b: What happens here with this even larger step size? Is it converging?"
      ]
    },
    {
      "cell_type": "markdown",
      "metadata": {
        "id": "D9yxYc4afOCc"
      },
      "source": [
        "### Exercise 3c: What is the largest step size you can get to converge reasonably?"
      ]
    },
    {
      "cell_type": "code",
      "execution_count": null,
      "metadata": {
        "id": "QDxfPgpffOCc",
        "colab": {
          "base_uri": "https://localhost:8080/"
        },
        "outputId": "c47cdf70-0046-41fa-e24e-e107bd01ddb9"
      },
      "outputs": [
        {
          "output_type": "stream",
          "name": "stdout",
          "text": [
            "  iter     0/100 | w        0.00000 | loss       93.3197 | grad     -156.5566\n",
            "  iter     1/100 | w        0.15656 | loss       70.5104 | grad     -134.8304\n",
            "  iter     2/100 | w        0.29139 | loss       53.5926 | grad     -116.1192\n",
            "  iter     3/100 | w        0.40751 | loss       41.0446 | grad     -100.0047\n",
            "  iter     4/100 | w        0.50751 | loss       31.7376 | grad      -86.1265\n",
            "  iter     5/100 | w        0.59364 | loss       24.8345 | grad      -74.1743\n",
            "  iter     6/100 | w        0.66781 | loss       19.7144 | grad      -63.8807\n",
            "  iter     7/100 | w        0.73169 | loss       15.9168 | grad      -55.0156\n",
            "  iter     8/100 | w        0.78671 | loss       13.1001 | grad      -47.3808\n",
            "  iter     9/100 | w        0.83409 | loss       11.0110 | grad      -40.8055\n",
            "  iter    10/100 | w        0.87489 | loss        9.4614 | grad      -35.1427\n",
            "  iter    11/100 | w        0.91004 | loss        8.3121 | grad      -30.2657\n",
            "  iter    12/100 | w        0.94030 | loss        7.4597 | grad      -26.0656\n",
            "  iter    13/100 | w        0.96637 | loss        6.8274 | grad      -22.4483\n",
            "  iter    14/100 | w        0.98882 | loss        6.3584 | grad      -19.3331\n",
            "  iter    15/100 | w        1.00815 | loss        6.0106 | grad      -16.6501\n",
            "  iter    16/100 | w        1.02480 | loss        5.7526 | grad      -14.3395\n",
            "  iter    17/100 | w        1.03914 | loss        5.5612 | grad      -12.3495\n",
            "  iter    18/100 | w        1.05149 | loss        5.4193 | grad      -10.6357\n",
            "  iter    19/100 | w        1.06212 | loss        5.3140 | grad       -9.1597\n",
            "  iter    20/100 | w        1.07128 | loss        5.2360 | grad       -7.8886\n",
            "  iter    21/100 | w        1.07917 | loss        5.1781 | grad       -6.7938\n",
            "  iter    22/100 | w        1.08597 | loss        5.1351 | grad       -5.8510\n",
            "  iter    23/100 | w        1.09182 | loss        5.1032 | grad       -5.0390\n",
            "  iter    24/100 | w        1.09686 | loss        5.0796 | grad       -4.3397\n",
            "  iter    25/100 | w        1.10120 | loss        5.0621 | grad       -3.7375\n",
            "  iter    26/100 | w        1.10493 | loss        5.0491 | grad       -3.2188\n",
            "  iter    27/100 | w        1.10815 | loss        5.0394 | grad       -2.7721\n",
            "  iter    28/100 | w        1.11092 | loss        5.0323 | grad       -2.3874\n",
            "  iter    29/100 | w        1.11331 | loss        5.0270 | grad       -2.0561\n",
            "  iter    30/100 | w        1.11537 | loss        5.0231 | grad       -1.7708\n",
            "  iter    31/100 | w        1.11714 | loss        5.0201 | grad       -1.5250\n",
            "  iter    32/100 | w        1.11866 | loss        5.0180 | grad       -1.3134\n",
            "  iter    33/100 | w        1.11998 | loss        5.0164 | grad       -1.1311\n",
            "  iter    34/100 | w        1.12111 | loss        5.0152 | grad       -0.9742\n",
            "  iter    35/100 | w        1.12208 | loss        5.0143 | grad       -0.8390\n",
            "  iter    36/100 | w        1.12292 | loss        5.0136 | grad       -0.7225\n",
            "  iter    37/100 | w        1.12364 | loss        5.0132 | grad       -0.6223\n",
            "  iter    38/100 | w        1.12427 | loss        5.0128 | grad       -0.5359\n",
            "  iter    39/100 | w        1.12480 | loss        5.0125 | grad       -0.4615\n",
            "  iter    40/100 | w        1.12526 | loss        5.0123 | grad       -0.3975\n",
            "  iter    41/100 | w        1.12566 | loss        5.0122 | grad       -0.3423\n",
            "  iter    42/100 | w        1.12600 | loss        5.0121 | grad       -0.2948\n",
            "  iter    43/100 | w        1.12630 | loss        5.0120 | grad       -0.2539\n",
            "  iter    44/100 | w        1.12655 | loss        5.0119 | grad       -0.2187\n",
            "  iter    45/100 | w        1.12677 | loss        5.0119 | grad       -0.1883\n",
            "  iter    46/100 | w        1.12696 | loss        5.0119 | grad       -0.1622\n",
            "  iter    47/100 | w        1.12712 | loss        5.0118 | grad       -0.1397\n",
            "  iter    48/100 | w        1.12726 | loss        5.0118 | grad       -0.1203\n",
            "  iter    49/100 | w        1.12738 | loss        5.0118 | grad       -0.1036\n",
            "  iter    50/100 | w        1.12749 | loss        5.0118 | grad       -0.0892\n",
            "  iter    51/100 | w        1.12757 | loss        5.0118 | grad       -0.0768\n",
            "  iter    52/100 | w        1.12765 | loss        5.0118 | grad       -0.0662\n",
            "  iter    53/100 | w        1.12772 | loss        5.0118 | grad       -0.0570\n",
            "  iter    54/100 | w        1.12777 | loss        5.0118 | grad       -0.0491\n",
            "  iter    55/100 | w        1.12782 | loss        5.0118 | grad       -0.0423\n",
            "  iter    56/100 | w        1.12787 | loss        5.0118 | grad       -0.0364\n",
            "  iter    57/100 | w        1.12790 | loss        5.0118 | grad       -0.0314\n",
            "  iter    58/100 | w        1.12793 | loss        5.0118 | grad       -0.0270\n",
            "  iter    59/100 | w        1.12796 | loss        5.0118 | grad       -0.0233\n",
            "  iter    60/100 | w        1.12798 | loss        5.0118 | grad       -0.0200\n",
            "  iter    61/100 | w        1.12800 | loss        5.0118 | grad       -0.0172\n",
            "  iter    62/100 | w        1.12802 | loss        5.0118 | grad       -0.0149\n",
            "  iter    63/100 | w        1.12804 | loss        5.0118 | grad       -0.0128\n",
            "  iter    64/100 | w        1.12805 | loss        5.0118 | grad       -0.0110\n",
            "  iter    65/100 | w        1.12806 | loss        5.0118 | grad       -0.0095\n",
            "  iter    66/100 | w        1.12807 | loss        5.0118 | grad       -0.0082\n",
            "  iter    67/100 | w        1.12808 | loss        5.0118 | grad       -0.0070\n",
            "  iter    68/100 | w        1.12808 | loss        5.0118 | grad       -0.0061\n",
            "  iter    69/100 | w        1.12809 | loss        5.0118 | grad       -0.0052\n",
            "  iter    70/100 | w        1.12810 | loss        5.0118 | grad       -0.0045\n",
            "  iter    71/100 | w        1.12810 | loss        5.0118 | grad       -0.0039\n",
            "  iter    72/100 | w        1.12810 | loss        5.0118 | grad       -0.0033\n",
            "  iter    73/100 | w        1.12811 | loss        5.0118 | grad       -0.0029\n",
            "  iter    74/100 | w        1.12811 | loss        5.0118 | grad       -0.0025\n",
            "  iter    75/100 | w        1.12811 | loss        5.0118 | grad       -0.0021\n",
            "  iter    76/100 | w        1.12812 | loss        5.0118 | grad       -0.0018\n",
            "  iter    77/100 | w        1.12812 | loss        5.0118 | grad       -0.0016\n",
            "  iter    78/100 | w        1.12812 | loss        5.0118 | grad       -0.0014\n",
            "  iter    79/100 | w        1.12812 | loss        5.0118 | grad       -0.0012\n",
            "  iter    80/100 | w        1.12812 | loss        5.0118 | grad       -0.0010\n",
            "  iter    81/100 | w        1.12812 | loss        5.0118 | grad       -0.0009\n",
            "  iter    82/100 | w        1.12812 | loss        5.0118 | grad       -0.0007\n",
            "  iter    83/100 | w        1.12812 | loss        5.0118 | grad       -0.0006\n",
            "  iter    84/100 | w        1.12812 | loss        5.0118 | grad       -0.0006\n",
            "  iter    85/100 | w        1.12812 | loss        5.0118 | grad       -0.0005\n",
            "  iter    86/100 | w        1.12813 | loss        5.0118 | grad       -0.0004\n",
            "  iter    87/100 | w        1.12813 | loss        5.0118 | grad       -0.0004\n",
            "  iter    88/100 | w        1.12813 | loss        5.0118 | grad       -0.0003\n",
            "  iter    89/100 | w        1.12813 | loss        5.0118 | grad       -0.0003\n",
            "  iter    90/100 | w        1.12813 | loss        5.0118 | grad       -0.0002\n",
            "  iter    91/100 | w        1.12813 | loss        5.0118 | grad       -0.0002\n",
            "  iter    92/100 | w        1.12813 | loss        5.0118 | grad       -0.0002\n",
            "  iter    93/100 | w        1.12813 | loss        5.0118 | grad       -0.0001\n",
            "  iter    94/100 | w        1.12813 | loss        5.0118 | grad       -0.0001\n",
            "  iter    95/100 | w        1.12813 | loss        5.0118 | grad       -0.0001\n",
            "  iter    96/100 | w        1.12813 | loss        5.0118 | grad       -0.0001\n",
            "  iter    97/100 | w        1.12813 | loss        5.0118 | grad       -0.0001\n",
            "  iter    98/100 | w        1.12813 | loss        5.0118 | grad       -0.0001\n",
            "  iter    99/100 | w        1.12813 | loss        5.0118 | grad       -0.0001\n"
          ]
        }
      ],
      "source": [
        "# TODO try some other step sizes here\n",
        "wopt, info_dict = minimize_via_grad_descent(calc_loss, calc_grad, step_size=0.001) # TODO fix step_size"
      ]
    },
    {
      "cell_type": "markdown",
      "metadata": {
        "id": "Ms6k4obQfOCf"
      },
      "source": [
        "# Part 5: Sensitivity to initial conditions\n",
        "\n"
      ]
    },
    {
      "cell_type": "markdown",
      "metadata": {
        "id": "FoZNgldVfOCg"
      },
      "source": [
        "### Exercise 5a: Try to call the defined procedure with a different initial condition for $w$. What happens?\n",
        "\n",
        "You could try $w = 5.0$ or something else."
      ]
    },
    {
      "cell_type": "code",
      "execution_count": null,
      "metadata": {
        "id": "hMKR-7sYfOCh",
        "colab": {
          "base_uri": "https://localhost:8080/"
        },
        "outputId": "1e9a83bc-78b8-41af-876f-a1520b27600d"
      },
      "outputs": [
        {
          "output_type": "stream",
          "name": "stdout",
          "text": [
            "  iter     0/100 | w        5.00000 | loss     1045.2307 | grad      537.3210\n",
            "  iter     1/100 | w        4.46268 | loss      776.5501 | grad      462.7540\n",
            "  iter     2/100 | w        3.99993 | loss      577.2676 | grad      398.5351\n",
            "  iter     3/100 | w        3.60139 | loss      429.4583 | grad      343.2282\n",
            "  iter     4/100 | w        3.25816 | loss      319.8270 | grad      295.5965\n",
            "  iter     5/100 | w        2.96257 | loss      238.5126 | grad      254.5749\n",
            "  iter     6/100 | w        2.70799 | loss      178.2011 | grad      219.2462\n",
            "  iter     7/100 | w        2.48874 | loss      133.4676 | grad      188.8202\n",
            "  iter     8/100 | w        2.29992 | loss      100.2885 | grad      162.6166\n",
            "  iter     9/100 | w        2.13731 | loss       75.6792 | grad      140.0494\n",
            "  iter    10/100 | w        1.99726 | loss       57.4263 | grad      120.6139\n",
            "  iter    11/100 | w        1.87664 | loss       43.8881 | grad      103.8757\n",
            "  iter    12/100 | w        1.77277 | loss       33.8466 | grad       89.4603\n",
            "  iter    13/100 | w        1.68331 | loss       26.3988 | grad       77.0454\n",
            "  iter    14/100 | w        1.60626 | loss       20.8747 | grad       66.3534\n",
            "  iter    15/100 | w        1.53991 | loss       16.7774 | grad       57.1451\n",
            "  iter    16/100 | w        1.48276 | loss       13.7384 | grad       49.2148\n",
            "  iter    17/100 | w        1.43355 | loss       11.4844 | grad       42.3850\n",
            "  iter    18/100 | w        1.39116 | loss        9.8126 | grad       36.5030\n",
            "  iter    19/100 | w        1.35466 | loss        8.5726 | grad       31.4373\n",
            "  iter    20/100 | w        1.32322 | loss        7.6528 | grad       27.0745\n",
            "  iter    21/100 | w        1.29615 | loss        6.9707 | grad       23.3173\n",
            "  iter    22/100 | w        1.27283 | loss        6.4647 | grad       20.0814\n",
            "  iter    23/100 | w        1.25275 | loss        6.0894 | grad       17.2946\n",
            "  iter    24/100 | w        1.23546 | loss        5.8111 | grad       14.8945\n",
            "  iter    25/100 | w        1.22056 | loss        5.6046 | grad       12.8275\n",
            "  iter    26/100 | w        1.20773 | loss        5.4515 | grad       11.0474\n",
            "  iter    27/100 | w        1.19669 | loss        5.3379 | grad        9.5143\n",
            "  iter    28/100 | w        1.18717 | loss        5.2537 | grad        8.1939\n",
            "  iter    29/100 | w        1.17898 | loss        5.1912 | grad        7.0568\n",
            "  iter    30/100 | w        1.17192 | loss        5.1448 | grad        6.0775\n",
            "  iter    31/100 | w        1.16584 | loss        5.1105 | grad        5.2341\n",
            "  iter    32/100 | w        1.16061 | loss        5.0850 | grad        4.5077\n",
            "  iter    33/100 | w        1.15610 | loss        5.0661 | grad        3.8822\n",
            "  iter    34/100 | w        1.15222 | loss        5.0520 | grad        3.3434\n",
            "  iter    35/100 | w        1.14888 | loss        5.0416 | grad        2.8794\n",
            "  iter    36/100 | w        1.14600 | loss        5.0339 | grad        2.4798\n",
            "  iter    37/100 | w        1.14352 | loss        5.0282 | grad        2.1357\n",
            "  iter    38/100 | w        1.14138 | loss        5.0239 | grad        1.8393\n",
            "  iter    39/100 | w        1.13954 | loss        5.0208 | grad        1.5841\n",
            "  iter    40/100 | w        1.13796 | loss        5.0185 | grad        1.3642\n",
            "  iter    41/100 | w        1.13659 | loss        5.0167 | grad        1.1749\n",
            "  iter    42/100 | w        1.13542 | loss        5.0154 | grad        1.0119\n",
            "  iter    43/100 | w        1.13441 | loss        5.0145 | grad        0.8714\n",
            "  iter    44/100 | w        1.13354 | loss        5.0138 | grad        0.7505\n",
            "  iter    45/100 | w        1.13279 | loss        5.0133 | grad        0.6464\n",
            "  iter    46/100 | w        1.13214 | loss        5.0129 | grad        0.5567\n",
            "  iter    47/100 | w        1.13158 | loss        5.0126 | grad        0.4794\n",
            "  iter    48/100 | w        1.13110 | loss        5.0124 | grad        0.4129\n",
            "  iter    49/100 | w        1.13069 | loss        5.0122 | grad        0.3556\n",
            "  iter    50/100 | w        1.13033 | loss        5.0121 | grad        0.3062\n",
            "  iter    51/100 | w        1.13003 | loss        5.0120 | grad        0.2637\n",
            "  iter    52/100 | w        1.12977 | loss        5.0119 | grad        0.2271\n",
            "  iter    53/100 | w        1.12954 | loss        5.0119 | grad        0.1956\n",
            "  iter    54/100 | w        1.12934 | loss        5.0119 | grad        0.1685\n",
            "  iter    55/100 | w        1.12917 | loss        5.0118 | grad        0.1451\n",
            "  iter    56/100 | w        1.12903 | loss        5.0118 | grad        0.1250\n",
            "  iter    57/100 | w        1.12890 | loss        5.0118 | grad        0.1076\n",
            "  iter    58/100 | w        1.12880 | loss        5.0118 | grad        0.0927\n",
            "  iter    59/100 | w        1.12870 | loss        5.0118 | grad        0.0798\n",
            "  iter    60/100 | w        1.12862 | loss        5.0118 | grad        0.0687\n",
            "  iter    61/100 | w        1.12855 | loss        5.0118 | grad        0.0592\n",
            "  iter    62/100 | w        1.12850 | loss        5.0118 | grad        0.0510\n",
            "  iter    63/100 | w        1.12844 | loss        5.0118 | grad        0.0439\n",
            "  iter    64/100 | w        1.12840 | loss        5.0118 | grad        0.0378\n",
            "  iter    65/100 | w        1.12836 | loss        5.0118 | grad        0.0326\n",
            "  iter    66/100 | w        1.12833 | loss        5.0118 | grad        0.0280\n",
            "  iter    67/100 | w        1.12830 | loss        5.0118 | grad        0.0242\n",
            "  iter    68/100 | w        1.12828 | loss        5.0118 | grad        0.0208\n",
            "  iter    69/100 | w        1.12826 | loss        5.0118 | grad        0.0179\n",
            "  iter    70/100 | w        1.12824 | loss        5.0118 | grad        0.0154\n",
            "  iter    71/100 | w        1.12822 | loss        5.0118 | grad        0.0133\n",
            "  iter    72/100 | w        1.12821 | loss        5.0118 | grad        0.0114\n",
            "  iter    73/100 | w        1.12820 | loss        5.0118 | grad        0.0099\n",
            "  iter    74/100 | w        1.12819 | loss        5.0118 | grad        0.0085\n",
            "  iter    75/100 | w        1.12818 | loss        5.0118 | grad        0.0073\n",
            "  iter    76/100 | w        1.12817 | loss        5.0118 | grad        0.0063\n",
            "  iter    77/100 | w        1.12817 | loss        5.0118 | grad        0.0054\n",
            "  iter    78/100 | w        1.12816 | loss        5.0118 | grad        0.0047\n",
            "  iter    79/100 | w        1.12816 | loss        5.0118 | grad        0.0040\n",
            "  iter    80/100 | w        1.12815 | loss        5.0118 | grad        0.0035\n",
            "  iter    81/100 | w        1.12815 | loss        5.0118 | grad        0.0030\n",
            "  iter    82/100 | w        1.12815 | loss        5.0118 | grad        0.0026\n",
            "  iter    83/100 | w        1.12814 | loss        5.0118 | grad        0.0022\n",
            "  iter    84/100 | w        1.12814 | loss        5.0118 | grad        0.0019\n",
            "  iter    85/100 | w        1.12814 | loss        5.0118 | grad        0.0016\n",
            "  iter    86/100 | w        1.12814 | loss        5.0118 | grad        0.0014\n",
            "  iter    87/100 | w        1.12814 | loss        5.0118 | grad        0.0012\n",
            "  iter    88/100 | w        1.12814 | loss        5.0118 | grad        0.0010\n",
            "  iter    89/100 | w        1.12813 | loss        5.0118 | grad        0.0009\n",
            "  iter    90/100 | w        1.12813 | loss        5.0118 | grad        0.0008\n",
            "  iter    91/100 | w        1.12813 | loss        5.0118 | grad        0.0007\n",
            "  iter    92/100 | w        1.12813 | loss        5.0118 | grad        0.0006\n",
            "  iter    93/100 | w        1.12813 | loss        5.0118 | grad        0.0005\n",
            "  iter    94/100 | w        1.12813 | loss        5.0118 | grad        0.0004\n",
            "  iter    95/100 | w        1.12813 | loss        5.0118 | grad        0.0004\n",
            "  iter    96/100 | w        1.12813 | loss        5.0118 | grad        0.0003\n",
            "  iter    97/100 | w        1.12813 | loss        5.0118 | grad        0.0003\n",
            "  iter    98/100 | w        1.12813 | loss        5.0118 | grad        0.0002\n",
            "  iter    99/100 | w        1.12813 | loss        5.0118 | grad        0.0002\n"
          ]
        }
      ],
      "source": [
        "# TODO try some other initial condition for init_w\n",
        "wopt2, info_dict2 = minimize_via_grad_descent(calc_loss, calc_grad, init_w=5, step_size=0.001, max_iters=100) # TODO fix step_size"
      ]
    },
    {
      "cell_type": "markdown",
      "metadata": {
        "id": "-KWYpKfffOCh"
      },
      "source": [
        "### Exercise 5b: Try again with another initial value. "
      ]
    },
    {
      "cell_type": "code",
      "execution_count": null,
      "metadata": {
        "id": "P1M8mHNMfOCi",
        "colab": {
          "base_uri": "https://localhost:8080/"
        },
        "outputId": "5c6f1c69-f304-4d58-ad1f-7782d2dfaae3"
      },
      "outputs": [
        {
          "output_type": "stream",
          "name": "stdout",
          "text": [
            "  iter     0/100 | w       -7.00000 | loss     4589.2158 | grad    -1127.9852\n",
            "  iter     1/100 | w       -5.87201 | loss     3405.1508 | grad     -971.4484\n",
            "  iter     2/100 | w       -4.90057 | loss     2526.9208 | grad     -836.6352\n",
            "  iter     3/100 | w       -4.06393 | loss     1875.5309 | grad     -720.5307\n",
            "  iter     4/100 | w       -3.34340 | loss     1392.3901 | grad     -620.5387\n",
            "  iter     5/100 | w       -2.72286 | loss     1034.0408 | grad     -534.4231\n",
            "  iter     6/100 | w       -2.18844 | loss      768.2505 | grad     -460.2583\n",
            "  iter     7/100 | w       -1.72818 | loss      571.1117 | grad     -396.3857\n",
            "  iter     8/100 | w       -1.33179 | loss      424.8924 | grad     -341.3771\n",
            "  iter     9/100 | w       -0.99042 | loss      316.4404 | grad     -294.0023\n",
            "  iter    10/100 | w       -0.69642 | loss      236.0008 | grad     -253.2020\n",
            "  iter    11/100 | w       -0.44321 | loss      176.3381 | grad     -218.0637\n",
            "  iter    12/100 | w       -0.22515 | loss      132.0858 | grad     -187.8018\n",
            "  iter    13/100 | w       -0.03735 | loss       99.2635 | grad     -161.7395\n",
            "  iter    14/100 | w        0.12439 | loss       74.9190 | grad     -139.2941\n",
            "  iter    15/100 | w        0.26369 | loss       56.8625 | grad     -119.9635\n",
            "  iter    16/100 | w        0.38365 | loss       43.4699 | grad     -103.3155\n",
            "  iter    17/100 | w        0.48696 | loss       33.5364 | grad      -88.9778\n",
            "  iter    18/100 | w        0.57594 | loss       26.1687 | grad      -76.6299\n",
            "  iter    19/100 | w        0.65257 | loss       20.7040 | grad      -65.9955\n",
            "  iter    20/100 | w        0.71857 | loss       16.6508 | grad      -56.8370\n",
            "  iter    21/100 | w        0.77540 | loss       13.6446 | grad      -48.9494\n",
            "  iter    22/100 | w        0.82435 | loss       11.4148 | grad      -42.1564\n",
            "  iter    23/100 | w        0.86651 | loss        9.7609 | grad      -36.3061\n",
            "  iter    24/100 | w        0.90282 | loss        8.5342 | grad      -31.2677\n",
            "  iter    25/100 | w        0.93408 | loss        7.6244 | grad      -26.9285\n",
            "  iter    26/100 | w        0.96101 | loss        6.9496 | grad      -23.1915\n",
            "  iter    27/100 | w        0.98420 | loss        6.4491 | grad      -19.9731\n",
            "  iter    28/100 | w        1.00418 | loss        6.0778 | grad      -17.2013\n",
            "  iter    29/100 | w        1.02138 | loss        5.8025 | grad      -14.8142\n",
            "  iter    30/100 | w        1.03619 | loss        5.5982 | grad      -12.7583\n",
            "  iter    31/100 | w        1.04895 | loss        5.4467 | grad      -10.9878\n",
            "  iter    32/100 | w        1.05994 | loss        5.3344 | grad       -9.4630\n",
            "  iter    33/100 | w        1.06940 | loss        5.2511 | grad       -8.1497\n",
            "  iter    34/100 | w        1.07755 | loss        5.1893 | grad       -7.0188\n",
            "  iter    35/100 | w        1.08457 | loss        5.1434 | grad       -6.0447\n",
            "  iter    36/100 | w        1.09062 | loss        5.1094 | grad       -5.2059\n",
            "  iter    37/100 | w        1.09582 | loss        5.0842 | grad       -4.4834\n",
            "  iter    38/100 | w        1.10030 | loss        5.0655 | grad       -3.8612\n",
            "  iter    39/100 | w        1.10417 | loss        5.0516 | grad       -3.3254\n",
            "  iter    40/100 | w        1.10749 | loss        5.0413 | grad       -2.8639\n",
            "  iter    41/100 | w        1.11036 | loss        5.0337 | grad       -2.4665\n",
            "  iter    42/100 | w        1.11282 | loss        5.0280 | grad       -2.1242\n",
            "  iter    43/100 | w        1.11495 | loss        5.0238 | grad       -1.8294\n",
            "  iter    44/100 | w        1.11678 | loss        5.0207 | grad       -1.5755\n",
            "  iter    45/100 | w        1.11835 | loss        5.0184 | grad       -1.3569\n",
            "  iter    46/100 | w        1.11971 | loss        5.0167 | grad       -1.1686\n",
            "  iter    47/100 | w        1.12088 | loss        5.0154 | grad       -1.0064\n",
            "  iter    48/100 | w        1.12188 | loss        5.0145 | grad       -0.8667\n",
            "  iter    49/100 | w        1.12275 | loss        5.0138 | grad       -0.7465\n",
            "  iter    50/100 | w        1.12350 | loss        5.0132 | grad       -0.6429\n",
            "  iter    51/100 | w        1.12414 | loss        5.0129 | grad       -0.5537\n",
            "  iter    52/100 | w        1.12469 | loss        5.0126 | grad       -0.4768\n",
            "  iter    53/100 | w        1.12517 | loss        5.0124 | grad       -0.4106\n",
            "  iter    54/100 | w        1.12558 | loss        5.0122 | grad       -0.3537\n",
            "  iter    55/100 | w        1.12593 | loss        5.0121 | grad       -0.3046\n",
            "  iter    56/100 | w        1.12624 | loss        5.0120 | grad       -0.2623\n",
            "  iter    57/100 | w        1.12650 | loss        5.0119 | grad       -0.2259\n",
            "  iter    58/100 | w        1.12673 | loss        5.0119 | grad       -0.1946\n",
            "  iter    59/100 | w        1.12692 | loss        5.0119 | grad       -0.1676\n",
            "  iter    60/100 | w        1.12709 | loss        5.0118 | grad       -0.1443\n",
            "  iter    61/100 | w        1.12723 | loss        5.0118 | grad       -0.1243\n",
            "  iter    62/100 | w        1.12736 | loss        5.0118 | grad       -0.1070\n",
            "  iter    63/100 | w        1.12746 | loss        5.0118 | grad       -0.0922\n",
            "  iter    64/100 | w        1.12756 | loss        5.0118 | grad       -0.0794\n",
            "  iter    65/100 | w        1.12764 | loss        5.0118 | grad       -0.0684\n",
            "  iter    66/100 | w        1.12770 | loss        5.0118 | grad       -0.0589\n",
            "  iter    67/100 | w        1.12776 | loss        5.0118 | grad       -0.0507\n",
            "  iter    68/100 | w        1.12781 | loss        5.0118 | grad       -0.0437\n",
            "  iter    69/100 | w        1.12786 | loss        5.0118 | grad       -0.0376\n",
            "  iter    70/100 | w        1.12789 | loss        5.0118 | grad       -0.0324\n",
            "  iter    71/100 | w        1.12793 | loss        5.0118 | grad       -0.0279\n",
            "  iter    72/100 | w        1.12796 | loss        5.0118 | grad       -0.0240\n",
            "  iter    73/100 | w        1.12798 | loss        5.0118 | grad       -0.0207\n",
            "  iter    74/100 | w        1.12800 | loss        5.0118 | grad       -0.0178\n",
            "  iter    75/100 | w        1.12802 | loss        5.0118 | grad       -0.0153\n",
            "  iter    76/100 | w        1.12803 | loss        5.0118 | grad       -0.0132\n",
            "  iter    77/100 | w        1.12805 | loss        5.0118 | grad       -0.0114\n",
            "  iter    78/100 | w        1.12806 | loss        5.0118 | grad       -0.0098\n",
            "  iter    79/100 | w        1.12807 | loss        5.0118 | grad       -0.0084\n",
            "  iter    80/100 | w        1.12808 | loss        5.0118 | grad       -0.0073\n",
            "  iter    81/100 | w        1.12808 | loss        5.0118 | grad       -0.0063\n",
            "  iter    82/100 | w        1.12809 | loss        5.0118 | grad       -0.0054\n",
            "  iter    83/100 | w        1.12809 | loss        5.0118 | grad       -0.0046\n",
            "  iter    84/100 | w        1.12810 | loss        5.0118 | grad       -0.0040\n",
            "  iter    85/100 | w        1.12810 | loss        5.0118 | grad       -0.0034\n",
            "  iter    86/100 | w        1.12811 | loss        5.0118 | grad       -0.0030\n",
            "  iter    87/100 | w        1.12811 | loss        5.0118 | grad       -0.0026\n",
            "  iter    88/100 | w        1.12811 | loss        5.0118 | grad       -0.0022\n",
            "  iter    89/100 | w        1.12811 | loss        5.0118 | grad       -0.0019\n",
            "  iter    90/100 | w        1.12812 | loss        5.0118 | grad       -0.0016\n",
            "  iter    91/100 | w        1.12812 | loss        5.0118 | grad       -0.0014\n",
            "  iter    92/100 | w        1.12812 | loss        5.0118 | grad       -0.0012\n",
            "  iter    93/100 | w        1.12812 | loss        5.0118 | grad       -0.0010\n",
            "  iter    94/100 | w        1.12812 | loss        5.0118 | grad       -0.0009\n",
            "  iter    95/100 | w        1.12812 | loss        5.0118 | grad       -0.0008\n",
            "  iter    96/100 | w        1.12812 | loss        5.0118 | grad       -0.0007\n",
            "  iter    97/100 | w        1.12812 | loss        5.0118 | grad       -0.0006\n",
            "  iter    98/100 | w        1.12812 | loss        5.0118 | grad       -0.0005\n",
            "  iter    99/100 | w        1.12813 | loss        5.0118 | grad       -0.0004\n"
          ]
        }
      ],
      "source": [
        "# TODO try some other initial condition for init_w\n",
        "wopt3, info_dict3 = minimize_via_grad_descent(calc_loss, calc_grad, init_w=-7, step_size=0.001, max_iters=100) # TODO fix"
      ]
    },
    {
      "cell_type": "markdown",
      "metadata": {
        "id": "C19G10s_fOCk"
      },
      "source": [
        "### Exercise 5c: Make a trace plot\n",
        "\n",
        "Make a trace plot showing convergence from multiple different starting values for $w$. What do you notice?"
      ]
    },
    {
      "cell_type": "code",
      "execution_count": null,
      "metadata": {
        "id": "DOxqqhH0fOCl",
        "colab": {
          "base_uri": "https://localhost:8080/",
          "height": 239
        },
        "outputId": "c2de4d05-66fb-4533-de71-29ff8ca7d2b4"
      },
      "outputs": [
        {
          "output_type": "display_data",
          "data": {
            "text/plain": [
              "<Figure size 864x216 with 3 Axes>"
            ],
            "image/png": "[encoded data removed]"
          },
          "metadata": {}
        }
      ],
      "source": [
        "# TODO\n",
        "fig, axes = plt.subplots(nrows=1, ncols=3, sharex=True, sharey=False, figsize=(12,3))\n",
        "\n",
        "axes[0].plot(info_dict['trace_loss_list'], '.-');\n",
        "axes[0].set_title('loss');\n",
        "axes[1].plot(info_dict['trace_grad_list'], '.-');\n",
        "axes[1].set_title('grad');\n",
        "axes[2].plot(info_dict['trace_w_list'], '.-');\n",
        "axes[2].set_title('w');"
      ]
    },
    {
      "cell_type": "markdown",
      "metadata": {
        "id": "wuwxLBmVfOCm"
      },
      "source": [
        "# Part 6: Using scipy's built-in gradient optimization tools\n"
      ]
    },
    {
      "cell_type": "code",
      "execution_count": null,
      "metadata": {
        "id": "fWUnZRrtfOCm"
      },
      "outputs": [],
      "source": [
        "import scipy.optimize"
      ]
    },
    {
      "cell_type": "markdown",
      "metadata": {
        "id": "Uc6jTAtCfOCn"
      },
      "source": [
        "Take a look at SciPy's built in minimization toolbox\n",
        "\n",
        "<https://docs.scipy.org/doc/scipy/reference/generated/scipy.optimize.minimize.html#scipy.optimize.minimize>\n",
        "\n",
        "We'll use \"L-BFGS\", a second-order method that uses the function and its gradient.\n",
        "\n",
        "This is a \"quasi-newton\" method, which you can get an intuition for here:\n",
        "\n",
        "https://en.wikipedia.org/wiki/Newton%27s_method_in_optimization"
      ]
    },
    {
      "cell_type": "code",
      "execution_count": null,
      "metadata": {
        "id": "1eYEIXP2fOCo",
        "colab": {
          "base_uri": "https://localhost:8080/"
        },
        "outputId": "07046266-a348-4574-98d9-54d29c876377"
      },
      "outputs": [
        {
          "output_type": "stream",
          "name": "stdout",
          "text": [
            "      fun: 5.011759943825978\n",
            " hess_inv: <1x1 LbfgsInvHessProduct with dtype=float64>\n",
            "      jac: array([-2.84217094e-14])\n",
            "  message: 'CONVERGENCE: NORM_OF_PROJECTED_GRADIENT_<=_PGTOL'\n",
            "     nfev: 3\n",
            "      nit: 2\n",
            "     njev: 3\n",
            "   status: 0\n",
            "  success: True\n",
            "        x: array([1.12812831])\n"
          ]
        }
      ],
      "source": [
        "result = scipy.optimize.minimize(calc_loss, 0.0, jac=calc_grad, method='L-BFGS-B')\n",
        "\n",
        "# Returns an object with several fields, let's print the result to get an idea\n",
        "print(result)"
      ]
    },
    {
      "cell_type": "code",
      "execution_count": null,
      "metadata": {
        "id": "fUuDKJ2WfOCp",
        "colab": {
          "base_uri": "https://localhost:8080/"
        },
        "outputId": "fe6983c3-0c4c-4a80-e72c-61a8b4c4cb2b"
      },
      "outputs": [
        {
          "output_type": "stream",
          "name": "stdout",
          "text": [
            "CONVERGENCE: NORM_OF_PROJECTED_GRADIENT_<=_PGTOL\n"
          ]
        }
      ],
      "source": [
        "print(str(result.message))"
      ]
    },
    {
      "cell_type": "code",
      "execution_count": null,
      "metadata": {
        "id": "iY6QFGnYfOCq",
        "colab": {
          "base_uri": "https://localhost:8080/"
        },
        "outputId": "6a60c04e-d149-4e73-e257-6dd645a8330f"
      },
      "outputs": [
        {
          "output_type": "stream",
          "name": "stdout",
          "text": [
            "[1.12812831]\n"
          ]
        }
      ],
      "source": [
        "best_w = result.x\n",
        "print(best_w)"
      ]
    },
    {
      "cell_type": "code",
      "execution_count": null,
      "metadata": {
        "id": "-MOj2Tk1fOCu"
      },
      "outputs": [],
      "source": []
    }
  ],
  "metadata": {
    "kernelspec": {
      "display_name": "Python 3 (ipykernel)",
      "language": "python",
      "name": "python3"
    },
    "language_info": {
      "codemirror_mode": {
        "name": "ipython",
        "version": 3
      },
      "file_extension": ".py",
      "mimetype": "text/x-python",
      "name": "python",
      "nbconvert_exporter": "python",
      "pygments_lexer": "ipython3",
      "version": "3.9.12"
    },
    "colab": {
      "provenance": []
    }
  },
  "nbformat": 4,
  "nbformat_minor": 0
}